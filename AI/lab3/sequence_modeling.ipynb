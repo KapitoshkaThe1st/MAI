{
 "cells": [
  {
   "cell_type": "code",
   "execution_count": 0,
   "metadata": {
    "colab": {
     "base_uri": "https://localhost:8080/",
     "height": 69
    },
    "colab_type": "code",
    "id": "mmrwCrtdL0sP",
    "outputId": "27251d97-83bc-4946-fb1c-0ac4058fb8c9"
   },
   "outputs": [
    {
     "name": "stdout",
     "output_type": "stream",
     "text": [
      "[nltk_data] Downloading package punkt to /root/nltk_data...\n",
      "[nltk_data]   Package punkt is already up-to-date!\n"
     ]
    },
    {
     "data": {
      "text/plain": [
       "True"
      ]
     },
     "execution_count": 1,
     "metadata": {
      "tags": []
     },
     "output_type": "execute_result"
    }
   ],
   "source": [
    "import os\n",
    "import numpy as np\n",
    "import matplotlib.pyplot as plt\n",
    "\n",
    "import tensorflow as tf\n",
    "\n",
    "import nltk\n",
    "nltk.download('punkt')"
   ]
  },
  {
   "cell_type": "code",
   "execution_count": 0,
   "metadata": {
    "colab": {},
    "colab_type": "code",
    "id": "ApfbLzOX_ySF"
   },
   "outputs": [],
   "source": [
    "data_path = 'data'\n",
    "with open('data.txt', 'w') as output_file:\n",
    "    for input_file in os.listdir(data_path):\n",
    "        if input_file.endswith('txt'):\n",
    "            with open('/'.join([data_path, input_file])) as input_file:\n",
    "                for l in input_file:\n",
    "                    output_file.write(l)"
   ]
  },
  {
   "cell_type": "code",
   "execution_count": 0,
   "metadata": {
    "colab": {
     "base_uri": "https://localhost:8080/",
     "height": 72
    },
    "colab_type": "code",
    "id": "V2eHtlT5JOZe",
    "outputId": "8a60c0fc-c0fa-4805-de7e-d00d012fbaee"
   },
   "outputs": [
    {
     "name": "stdout",
     "output_type": "stream",
     "text": [
      "Text length: 138534 words\n",
      "['annotation', 'писарев', 'дмитрий', 'иванович', 'писарев', 'дмитрий', 'иванович', 'историческое', 'развитие', 'европейской', 'мысли', 'д.', 'и.', 'писарев', 'историческое', 'развитие', 'европейской', 'мысли', 'i', 'лет', 'за', 'восемьсот', 'до', 'рождества', 'христова']\n"
     ]
    }
   ],
   "source": [
    "import string\n",
    "exclude = set(string.punctuation)\n",
    "exclude.remove('.')\n",
    "\n",
    "text = open('data.txt', 'r').read().lower()\n",
    "text = ''.join([w for w in text if not w.isdigit() and w not in exclude])\n",
    "text = nltk.word_tokenize(text)\n",
    "print (f'Text length: {len(text)} words')\n",
    "print(text[:25])"
   ]
  },
  {
   "cell_type": "code",
   "execution_count": 0,
   "metadata": {
    "colab": {
     "base_uri": "https://localhost:8080/",
     "height": 34
    },
    "colab_type": "code",
    "id": "bymYYHHxMV3x",
    "outputId": "1c81ae2c-9371-488f-ad59-957ce07334a5"
   },
   "outputs": [
    {
     "name": "stdout",
     "output_type": "stream",
     "text": [
      "Unique words: 29424\n"
     ]
    }
   ],
   "source": [
    "vocab = sorted(set(text))\n",
    "print (f'Unique words: {len(vocab)}')\n"
   ]
  },
  {
   "cell_type": "code",
   "execution_count": 0,
   "metadata": {
    "colab": {},
    "colab_type": "code",
    "id": "g59GdILVNJnS"
   },
   "outputs": [],
   "source": [
    "word2idx = {u:i for i, u in enumerate(vocab)}\n",
    "idx2word = np.array(vocab)\n",
    "\n",
    "text_as_int = np.array([word2idx[c] for c in text])"
   ]
  },
  {
   "cell_type": "code",
   "execution_count": 0,
   "metadata": {
    "colab": {
     "base_uri": "https://localhost:8080/",
     "height": 364
    },
    "colab_type": "code",
    "id": "5z51VuQvNTna",
    "outputId": "14283667-1e5d-421c-c36f-de9b3e55667a"
   },
   "outputs": [
    {
     "name": "stdout",
     "output_type": "stream",
     "text": [
      "  '.'   :   0\n",
      "  '...' :   1\n",
      "  '.словии':   2\n",
      "  '.словия':   3\n",
      "  'a'   :   4\n",
      "  'a.'  :   5\n",
      "  'aal' :   6\n",
      "  'aar' :   7\n",
      "  'aargau':   8\n",
      "  'abc' :   9\n",
      "  'ad'  :  10\n",
      "  'ager':  11\n",
      "  'alienum':  12\n",
      "  'annotation':  13\n",
      "  'b.'  :  14\n",
      "  'bien':  15\n",
      "  'brescia':  16\n",
      "  'canon':  17\n",
      "  'carey':  18\n",
      "  'cest':  19\n"
     ]
    }
   ],
   "source": [
    "for word, r in zip(word2idx, range(20)):\n",
    "    print('  {:6s}: {:3d}'.format(repr(word), word2idx[word]))"
   ]
  },
  {
   "cell_type": "code",
   "execution_count": 0,
   "metadata": {
    "colab": {
     "base_uri": "https://localhost:8080/",
     "height": 104
    },
    "colab_type": "code",
    "id": "TRA7_k3Iogzx",
    "outputId": "4f6a1c21-d8bd-4dc8-81c4-5ad004900bd7"
   },
   "outputs": [
    {
     "name": "stdout",
     "output_type": "stream",
     "text": [
      "annotation\n",
      "писарев\n",
      "дмитрий\n",
      "иванович\n",
      "писарев\n"
     ]
    }
   ],
   "source": [
    "seq_length = 20\n",
    "examples_per_epoch = len(text) // (seq_length + 1)\n",
    "\n",
    "char_dataset = tf.data.Dataset.from_tensor_slices(text_as_int)\n",
    "\n",
    "for i in char_dataset.take(5):\n",
    "  print(idx2word[i.numpy()])"
   ]
  },
  {
   "cell_type": "code",
   "execution_count": 0,
   "metadata": {
    "colab": {
     "base_uri": "https://localhost:8080/",
     "height": 104
    },
    "colab_type": "code",
    "id": "bhMqG6dypmq-",
    "outputId": "713f3405-bbc7-4abb-e546-1d7ca88e59e8"
   },
   "outputs": [
    {
     "name": "stdout",
     "output_type": "stream",
     "text": [
      "'annotation писарев дмитрий иванович писарев дмитрий иванович историческое развитие европейской мысли д. и. писарев историческое развитие европейской мысли i лет за'\n",
      "'восемьсот до рождества христова полудикий греческий народ с напряженным вниманием и с ребяческою доверчивостью слушал песни странствующих певцов о подвигах геркулеса'\n",
      "'и тезея о путешествии аргонавтов в колхиду за золотым руном о быстроногом ахиллесе о хитроумном одиссее о падении илиона о несчастиях'\n",
      "'и преступлениях атридов и потомков кадма . в этих песнях заключалась вся мудрость тогдашнего грека . тут была и религиозная догматика'\n",
      "'и нравственная философия и история и физика и астрономия все это было смешано в одну пеструю кучу и все вместе считалось'\n"
     ]
    }
   ],
   "source": [
    "sequences = char_dataset.batch(seq_length+1, drop_remainder=True)\n",
    "\n",
    "for item in sequences.take(5):\n",
    "  print(repr(' '.join(idx2word[item.numpy()])))"
   ]
  },
  {
   "cell_type": "code",
   "execution_count": 0,
   "metadata": {
    "colab": {},
    "colab_type": "code",
    "id": "9ApNclP7qCvl"
   },
   "outputs": [],
   "source": [
    "def split_input_target(chunk):\n",
    "    input_text = chunk[:-1]\n",
    "    target_text = chunk[1:]\n",
    "    return input_text, target_text\n",
    "\n",
    "dataset = sequences.map(split_input_target)"
   ]
  },
  {
   "cell_type": "code",
   "execution_count": 0,
   "metadata": {
    "colab": {
     "base_uri": "https://localhost:8080/",
     "height": 52
    },
    "colab_type": "code",
    "id": "DUj4R7wRn8t5",
    "outputId": "a8023422-5e6a-4315-c9ed-2113045a3902"
   },
   "outputs": [
    {
     "name": "stdout",
     "output_type": "stream",
     "text": [
      "Input data:  'annotation писарев дмитрий иванович писарев дмитрий иванович историческое развитие европейской мысли д. и. писарев историческое развитие европейской мысли i лет'\n",
      "Target data: 'писарев дмитрий иванович писарев дмитрий иванович историческое развитие европейской мысли д. и. писарев историческое развитие европейской мысли i лет за'\n"
     ]
    }
   ],
   "source": [
    "for input_example, target_example in  dataset.take(1):\n",
    "  print ('Input data: ', repr(' '.join(idx2word[input_example.numpy()])))\n",
    "  print ('Target data:', repr(' '.join(idx2word[target_example.numpy()])))\n"
   ]
  },
  {
   "cell_type": "code",
   "execution_count": 0,
   "metadata": {
    "colab": {
     "base_uri": "https://localhost:8080/",
     "height": 278
    },
    "colab_type": "code",
    "id": "kzV_PwGFqDXE",
    "outputId": "510f7ee4-a780-479e-cea7-b36c435bebcb"
   },
   "outputs": [
    {
     "name": "stdout",
     "output_type": "stream",
     "text": [
      "Step    0\n",
      "  input: 13 ('annotation')\n",
      "  expected output: 16692 ('писарев')\n",
      "Step    1\n",
      "  input: 16692 ('писарев')\n",
      "  expected output: 5370 ('дмитрий')\n",
      "Step    2\n",
      "  input: 5370 ('дмитрий')\n",
      "  expected output: 7666 ('иванович')\n",
      "Step    3\n",
      "  input: 7666 ('иванович')\n",
      "  expected output: 16692 ('писарев')\n",
      "Step    4\n",
      "  input: 16692 ('писарев')\n",
      "  expected output: 5370 ('дмитрий')\n"
     ]
    }
   ],
   "source": [
    "for i, (input_idx, target_idx) in enumerate(zip(input_example[:5], target_example[:5])):\n",
    "    print(\"Step {:4d}\".format(i))\n",
    "    print(\"  input: {} ({:s})\".format(input_idx, repr(idx2word[input_idx])))\n",
    "    print(\"  expected output: {} ({:s})\".format(target_idx, repr(idx2word[target_idx])))"
   ]
  },
  {
   "cell_type": "code",
   "execution_count": 0,
   "metadata": {
    "colab": {},
    "colab_type": "code",
    "id": "4TH3ITftrX_z"
   },
   "outputs": [],
   "source": [
    "# Batch size\n",
    "BATCH_SIZE = 32\n",
    "\n",
    "# Buffer size to shuffle the dataset\n",
    "# (TF data is designed to work with possibly infinite sequences,\n",
    "# so it doesn't attempt to shuffle the entire sequence in memory. Instead,\n",
    "# it maintains a buffer in which it shuffles elements).\n",
    "BUFFER_SIZE = 1000\n",
    "\n",
    "dataset = dataset.shuffle(BUFFER_SIZE).batch(BATCH_SIZE, drop_remainder=True)"
   ]
  },
  {
   "cell_type": "code",
   "execution_count": 0,
   "metadata": {
    "colab": {},
    "colab_type": "code",
    "id": "DGurXXIUreCK"
   },
   "outputs": [],
   "source": [
    "EPOCHS = 20\n",
    "\n",
    "# Length of the vocabulary in chars\n",
    "vocab_size = len(vocab)\n",
    "\n",
    "emb_dim = 512\n",
    "\n",
    "rnn_units = 128 \n",
    "rnn_units1 = 32 "
   ]
  },
  {
   "cell_type": "code",
   "execution_count": 0,
   "metadata": {
    "colab": {},
    "colab_type": "code",
    "id": "-mF9bnye8l-9"
   },
   "outputs": [],
   "source": [
    "def loss(labels, logits):\n",
    "    return tf.keras.losses.sparse_categorical_crossentropy(labels, logits, from_logits=True)"
   ]
  },
  {
   "cell_type": "code",
   "execution_count": 0,
   "metadata": {
    "colab": {},
    "colab_type": "code",
    "id": "6YZzthFUrghb"
   },
   "outputs": [],
   "source": [
    "def model_LSTM1(vocab_size, emb_dim, rnn_units, batch_size):\n",
    "    model = tf.keras.Sequential([\n",
    "        tf.keras.layers.Embedding(vocab_size, emb_dim,\n",
    "                                batch_input_shape=[batch_size, None]),\n",
    "        tf.keras.layers.LSTM(rnn_units,\n",
    "                            return_sequences=True,\n",
    "                            stateful=True,\n",
    "                            recurrent_initializer='glorot_uniform'),\n",
    "        tf.keras.layers.Dense(vocab_size)\n",
    "    ])\n",
    "    return model\n",
    "\n",
    "def model_LSTM2(vocab_size, emb_dim, rnn_units, rnn_units1, batch_size):\n",
    "    model = tf.keras.Sequential([\n",
    "        tf.keras.layers.Embedding(vocab_size, emb_dim,\n",
    "                                batch_input_shape=[batch_size, None]),\n",
    "        tf.keras.layers.LSTM(rnn_units,\n",
    "                            return_sequences=True,\n",
    "                            stateful=True,\n",
    "                            recurrent_initializer='glorot_uniform'),\n",
    "        tf.keras.layers.LSTM(rnn_units1,\n",
    "                            return_sequences=True,\n",
    "                            stateful=True,\n",
    "                            recurrent_initializer='glorot_uniform'),\n",
    "        tf.keras.layers.Dense(vocab_size)\n",
    "    ])\n",
    "    return model\n",
    "\n",
    "def model_SimpleRNN(vocab_size, emb_dim, rnn_units, batch_size):\n",
    "    model = tf.keras.Sequential([\n",
    "        tf.keras.layers.Embedding(vocab_size, emb_dim,\n",
    "                                batch_input_shape=[batch_size, None]),\n",
    "        tf.keras.layers.SimpleRNN(rnn_units,\n",
    "                            return_sequences=True,\n",
    "                            recurrent_initializer='glorot_uniform'),\n",
    "        tf.keras.layers.Dense(vocab_size)\n",
    "    ])\n",
    "    return model\n",
    "\n",
    "def model_GRU(vocab_size, emb_dim, rnn_units, batch_size):\n",
    "    model = tf.keras.Sequential([\n",
    "        tf.keras.layers.Embedding(vocab_size, emb_dim,\n",
    "                                batch_input_shape=[batch_size, None]),\n",
    "        tf.keras.layers.GRU(rnn_units,\n",
    "                            return_sequences=True,\n",
    "                            recurrent_initializer='glorot_uniform'),\n",
    "        tf.keras.layers.Dense(vocab_size)\n",
    "    ])\n",
    "    return model"
   ]
  },
  {
   "cell_type": "code",
   "execution_count": 0,
   "metadata": {
    "colab": {
     "base_uri": "https://localhost:8080/",
     "height": 712
    },
    "colab_type": "code",
    "id": "MeWtXjH2u08I",
    "outputId": "cbed50cd-6062-4cce-fdd0-a249298bc9d8"
   },
   "outputs": [
    {
     "name": "stdout",
     "output_type": "stream",
     "text": [
      "Epoch 1/20\n",
      "206/206 [==============================] - 129s 624ms/step - loss: 8.7709\n",
      "Epoch 2/20\n",
      "206/206 [==============================] - 128s 622ms/step - loss: 8.1650\n",
      "Epoch 3/20\n",
      "206/206 [==============================] - 128s 622ms/step - loss: 7.9077\n",
      "Epoch 4/20\n",
      "206/206 [==============================] - 132s 639ms/step - loss: 7.6584\n",
      "Epoch 5/20\n",
      "206/206 [==============================] - 129s 626ms/step - loss: 7.3791\n",
      "Epoch 6/20\n",
      "206/206 [==============================] - 129s 626ms/step - loss: 7.0743\n",
      "Epoch 7/20\n",
      "206/206 [==============================] - 129s 627ms/step - loss: 6.7618\n",
      "Epoch 8/20\n",
      "206/206 [==============================] - 132s 641ms/step - loss: 6.4446\n",
      "Epoch 9/20\n",
      "206/206 [==============================] - 128s 619ms/step - loss: 6.1281\n",
      "Epoch 10/20\n",
      "206/206 [==============================] - 128s 620ms/step - loss: 5.8033\n",
      "Epoch 11/20\n",
      "206/206 [==============================] - 128s 623ms/step - loss: 5.4785\n",
      "Epoch 12/20\n",
      "206/206 [==============================] - 129s 625ms/step - loss: 5.1477\n",
      "Epoch 13/20\n",
      "206/206 [==============================] - 131s 634ms/step - loss: 4.8232\n",
      "Epoch 14/20\n",
      "206/206 [==============================] - 129s 627ms/step - loss: 4.4996\n",
      "Epoch 15/20\n",
      "206/206 [==============================] - 128s 624ms/step - loss: 4.1865\n",
      "Epoch 16/20\n",
      "206/206 [==============================] - 128s 623ms/step - loss: 3.8793\n",
      "Epoch 17/20\n",
      "206/206 [==============================] - 128s 622ms/step - loss: 3.5851\n",
      "Epoch 18/20\n",
      "206/206 [==============================] - 129s 625ms/step - loss: 3.3008\n",
      "Epoch 19/20\n",
      "206/206 [==============================] - 128s 622ms/step - loss: 3.0362\n",
      "Epoch 20/20\n",
      "206/206 [==============================] - 128s 621ms/step - loss: 2.7919\n"
     ]
    }
   ],
   "source": [
    "checkpoint_dir = './checkpoints1'\n",
    "checkpoint_prefix = os.path.join(checkpoint_dir, \"ckpt_{epoch}\")\n",
    "\n",
    "checkpoint_callback=tf.keras.callbacks.ModelCheckpoint(\n",
    "    filepath=checkpoint_prefix,\n",
    "    save_weights_only=True)\n",
    "\n",
    "model1 = model_SimpleRNN(vocab_size = len(vocab), emb_dim=emb_dim,\n",
    "                    rnn_units=rnn_units, batch_size=BATCH_SIZE)\n",
    "model1.compile(optimizer='adam', loss=loss)\n",
    "history1 = model1.fit(dataset, epochs=EPOCHS, callbacks=[checkpoint_callback])\n",
    "\n",
    "tf.train.latest_checkpoint(checkpoint_dir)\n",
    "\n",
    "model1 = model_SimpleRNN(vocab_size, emb_dim, rnn_units, batch_size=1)\n",
    "model1.load_weights(tf.train.latest_checkpoint(checkpoint_dir))\n",
    "model1.build(tf.TensorShape([1, None]))"
   ]
  },
  {
   "cell_type": "code",
   "execution_count": 0,
   "metadata": {
    "colab": {
     "base_uri": "https://localhost:8080/",
     "height": 712
    },
    "colab_type": "code",
    "id": "6qbcWztAvO6e",
    "outputId": "58a51a02-7fca-4f73-b283-bb58a2abe4eb"
   },
   "outputs": [
    {
     "name": "stdout",
     "output_type": "stream",
     "text": [
      "Epoch 1/20\n",
      "206/206 [==============================] - 134s 649ms/step - loss: 8.8873\n",
      "Epoch 2/20\n",
      "206/206 [==============================] - 134s 650ms/step - loss: 8.2652\n",
      "Epoch 3/20\n",
      "206/206 [==============================] - 135s 654ms/step - loss: 8.0861\n",
      "Epoch 4/20\n",
      "206/206 [==============================] - 135s 656ms/step - loss: 7.8689\n",
      "Epoch 5/20\n",
      "206/206 [==============================] - 136s 660ms/step - loss: 7.6303\n",
      "Epoch 6/20\n",
      "206/206 [==============================] - 136s 658ms/step - loss: 7.3788\n",
      "Epoch 7/20\n",
      "206/206 [==============================] - 136s 660ms/step - loss: 7.0972\n",
      "Epoch 8/20\n",
      "206/206 [==============================] - 136s 662ms/step - loss: 6.8060\n",
      "Epoch 9/20\n",
      "206/206 [==============================] - 135s 657ms/step - loss: 6.5147\n",
      "Epoch 10/20\n",
      "206/206 [==============================] - 135s 655ms/step - loss: 6.2206\n",
      "Epoch 11/20\n",
      "206/206 [==============================] - 135s 654ms/step - loss: 5.9299\n",
      "Epoch 12/20\n",
      "206/206 [==============================] - 135s 657ms/step - loss: 5.6463\n",
      "Epoch 13/20\n",
      "206/206 [==============================] - 135s 654ms/step - loss: 5.3632\n",
      "Epoch 14/20\n",
      "206/206 [==============================] - 135s 654ms/step - loss: 5.0824\n",
      "Epoch 15/20\n",
      "206/206 [==============================] - 137s 663ms/step - loss: 4.8035\n",
      "Epoch 16/20\n",
      "206/206 [==============================] - 134s 651ms/step - loss: 4.5330\n",
      "Epoch 17/20\n",
      "206/206 [==============================] - 134s 651ms/step - loss: 4.2696\n",
      "Epoch 18/20\n",
      "206/206 [==============================] - 134s 651ms/step - loss: 4.0127\n",
      "Epoch 19/20\n",
      "206/206 [==============================] - 134s 651ms/step - loss: 3.7701\n",
      "Epoch 20/20\n",
      "206/206 [==============================] - 134s 651ms/step - loss: 3.5408\n"
     ]
    }
   ],
   "source": [
    "checkpoint_dir = './checkpoints2'\n",
    "checkpoint_prefix = os.path.join(checkpoint_dir, \"ckpt_{epoch}\")\n",
    "\n",
    "checkpoint_callback=tf.keras.callbacks.ModelCheckpoint(\n",
    "    filepath=checkpoint_prefix,\n",
    "    save_weights_only=True)\n",
    "\n",
    "model2 = model_GRU(vocab_size = len(vocab), emb_dim=emb_dim,\n",
    "                    rnn_units=rnn_units, batch_size=BATCH_SIZE)\n",
    "model2.compile(optimizer='adam', loss=loss)\n",
    "history2 = model2.fit(dataset, epochs=EPOCHS, callbacks=[checkpoint_callback])\n",
    "\n",
    "tf.train.latest_checkpoint(checkpoint_dir)\n",
    "\n",
    "model2 = model_GRU(vocab_size, emb_dim, rnn_units, batch_size=1)\n",
    "model2.load_weights(tf.train.latest_checkpoint(checkpoint_dir))\n",
    "model2.build(tf.TensorShape([1, None]))"
   ]
  },
  {
   "cell_type": "code",
   "execution_count": 0,
   "metadata": {
    "colab": {
     "base_uri": "https://localhost:8080/",
     "height": 712
    },
    "colab_type": "code",
    "id": "fiVMUg6d2KgO",
    "outputId": "83846c26-ca19-4d5e-ea9f-b1b1e4ceece0"
   },
   "outputs": [
    {
     "name": "stdout",
     "output_type": "stream",
     "text": [
      "Epoch 1/20\n",
      "206/206 [==============================] - 139s 674ms/step - loss: 8.6338\n",
      "Epoch 2/20\n",
      "206/206 [==============================] - 139s 676ms/step - loss: 8.0339\n",
      "Epoch 3/20\n",
      "206/206 [==============================] - 138s 668ms/step - loss: 7.8775\n",
      "Epoch 4/20\n",
      "206/206 [==============================] - 138s 668ms/step - loss: 7.7052\n",
      "Epoch 5/20\n",
      "206/206 [==============================] - 137s 666ms/step - loss: 7.5012\n",
      "Epoch 6/20\n",
      "206/206 [==============================] - 137s 667ms/step - loss: 7.2962\n",
      "Epoch 7/20\n",
      "206/206 [==============================] - 137s 666ms/step - loss: 7.1027\n",
      "Epoch 8/20\n",
      "206/206 [==============================] - 137s 667ms/step - loss: 6.9139\n",
      "Epoch 9/20\n",
      "206/206 [==============================] - 140s 678ms/step - loss: 6.7257\n",
      "Epoch 10/20\n",
      "206/206 [==============================] - 138s 670ms/step - loss: 6.5355\n",
      "Epoch 11/20\n",
      "206/206 [==============================] - 138s 670ms/step - loss: 6.3436\n",
      "Epoch 12/20\n",
      "206/206 [==============================] - 139s 673ms/step - loss: 6.1524\n",
      "Epoch 13/20\n",
      "206/206 [==============================] - 139s 673ms/step - loss: 5.9651\n",
      "Epoch 14/20\n",
      "206/206 [==============================] - 138s 672ms/step - loss: 5.7778\n",
      "Epoch 15/20\n",
      "206/206 [==============================] - 142s 687ms/step - loss: 5.5961\n",
      "Epoch 16/20\n",
      "206/206 [==============================] - 139s 673ms/step - loss: 5.4157\n",
      "Epoch 17/20\n",
      "206/206 [==============================] - 139s 673ms/step - loss: 5.2384\n",
      "Epoch 18/20\n",
      "206/206 [==============================] - 139s 672ms/step - loss: 5.0649\n",
      "Epoch 19/20\n",
      "206/206 [==============================] - 138s 672ms/step - loss: 4.8935\n",
      "Epoch 20/20\n",
      "206/206 [==============================] - 139s 673ms/step - loss: 4.7219\n"
     ]
    }
   ],
   "source": [
    "checkpoint_dir = './checkpoints3'\n",
    "checkpoint_prefix = os.path.join(checkpoint_dir, \"ckpt_{epoch}\")\n",
    "\n",
    "checkpoint_callback=tf.keras.callbacks.ModelCheckpoint(\n",
    "    filepath=checkpoint_prefix,\n",
    "    save_weights_only=True)\n",
    "\n",
    "model3 = model_LSTM1(vocab_size = len(vocab), emb_dim=emb_dim,\n",
    "                    rnn_units=rnn_units, batch_size=BATCH_SIZE)\n",
    "model3.compile(optimizer='adam', loss=loss)\n",
    "history3 = model3.fit(dataset, epochs=EPOCHS, callbacks=[checkpoint_callback])\n",
    "\n",
    "tf.train.latest_checkpoint(checkpoint_dir)\n",
    "\n",
    "model3 = model_LSTM1(vocab_size, emb_dim, rnn_units, batch_size=1)\n",
    "model3.load_weights(tf.train.latest_checkpoint(checkpoint_dir))\n",
    "model3.build(tf.TensorShape([1, None]))"
   ]
  },
  {
   "cell_type": "code",
   "execution_count": 0,
   "metadata": {
    "colab": {
     "base_uri": "https://localhost:8080/",
     "height": 712
    },
    "colab_type": "code",
    "id": "CosjPRID2KoJ",
    "outputId": "c458c17c-7d71-4960-b1bb-594f741be2b3"
   },
   "outputs": [
    {
     "name": "stdout",
     "output_type": "stream",
     "text": [
      "Epoch 1/20\n",
      "206/206 [==============================] - 100s 483ms/step - loss: 8.8824\n",
      "Epoch 2/20\n",
      "206/206 [==============================] - 99s 482ms/step - loss: 8.1599\n",
      "Epoch 3/20\n",
      "206/206 [==============================] - 100s 484ms/step - loss: 8.1445\n",
      "Epoch 4/20\n",
      "206/206 [==============================] - 99s 482ms/step - loss: 8.1113\n",
      "Epoch 5/20\n",
      "206/206 [==============================] - 101s 491ms/step - loss: 8.0127\n",
      "Epoch 6/20\n",
      "206/206 [==============================] - 99s 481ms/step - loss: 7.9344\n",
      "Epoch 7/20\n",
      "206/206 [==============================] - 99s 481ms/step - loss: 7.8609\n",
      "Epoch 8/20\n",
      "206/206 [==============================] - 99s 481ms/step - loss: 7.7945\n",
      "Epoch 9/20\n",
      "206/206 [==============================] - 100s 484ms/step - loss: 7.7279\n",
      "Epoch 10/20\n",
      "206/206 [==============================] - 99s 483ms/step - loss: 7.6634\n",
      "Epoch 11/20\n",
      "206/206 [==============================] - 100s 484ms/step - loss: 7.5996\n",
      "Epoch 12/20\n",
      "206/206 [==============================] - 100s 487ms/step - loss: 7.5352\n",
      "Epoch 13/20\n",
      "206/206 [==============================] - 100s 483ms/step - loss: 7.4732\n",
      "Epoch 14/20\n",
      "206/206 [==============================] - 99s 483ms/step - loss: 7.4076\n",
      "Epoch 15/20\n",
      "206/206 [==============================] - 100s 484ms/step - loss: 7.3446\n",
      "Epoch 16/20\n",
      "206/206 [==============================] - 99s 481ms/step - loss: 7.2794\n",
      "Epoch 17/20\n",
      "206/206 [==============================] - 99s 479ms/step - loss: 7.2140\n",
      "Epoch 18/20\n",
      "206/206 [==============================] - 99s 480ms/step - loss: 7.1488\n",
      "Epoch 19/20\n",
      "206/206 [==============================] - 99s 481ms/step - loss: 7.0808\n",
      "Epoch 20/20\n",
      "206/206 [==============================] - 99s 483ms/step - loss: 7.0109\n"
     ]
    }
   ],
   "source": [
    "checkpoint_dir = './checkpoints4'\n",
    "checkpoint_prefix = os.path.join(checkpoint_dir, \"ckpt_{epoch}\")\n",
    "\n",
    "checkpoint_callback=tf.keras.callbacks.ModelCheckpoint(\n",
    "    filepath=checkpoint_prefix,\n",
    "    save_weights_only=True)\n",
    "\n",
    "model4 = model_LSTM2(vocab_size = len(vocab), emb_dim=emb_dim,\n",
    "                    rnn_units=rnn_units, rnn_units1=rnn_units1, \n",
    "                    batch_size=BATCH_SIZE)\n",
    "model4.compile(optimizer='adam', loss=loss)\n",
    "history4 = model4.fit(dataset, epochs=EPOCHS, callbacks=[checkpoint_callback])\n",
    "\n",
    "tf.train.latest_checkpoint(checkpoint_dir)\n",
    "\n",
    "model4 = model_LSTM2(vocab_size, emb_dim, rnn_units, rnn_units1, batch_size=1)\n",
    "model4.load_weights(tf.train.latest_checkpoint(checkpoint_dir))\n",
    "model4.build(tf.TensorShape([1, None]))"
   ]
  },
  {
   "cell_type": "code",
   "execution_count": 0,
   "metadata": {
    "colab": {},
    "colab_type": "code",
    "id": "kld7TNa5s1nR"
   },
   "outputs": [],
   "source": [
    "epoch_count = range(1, EPOCHS + 1)\n",
    "\n",
    "def generate_text(model, start_string):\n",
    "  # Evaluation step (generating text using the learned model)\n",
    "\n",
    "  # Number of characters to generate\n",
    "  num_generate = 100\n",
    "\n",
    "  # Converting our start string to numbers (vectorizing)\n",
    "  input_eval = [word2idx[s] for s in start_string.split()]\n",
    "  input_eval = tf.expand_dims(input_eval, 0)\n",
    "\n",
    "  # Empty string to store our results\n",
    "  text_generated = []\n",
    "\n",
    "  # Low temperatures results in more predictable text.\n",
    "  # Higher temperatures results in more surprising text.\n",
    "  # Experiment to find the best setting.\n",
    "  temperature = 1.0\n",
    "\n",
    "  # Here batch size == 1\n",
    "  model.reset_states()\n",
    "  for i in range(num_generate):\n",
    "      predictions = model(input_eval)\n",
    "      # remove the batch dimension\n",
    "      predictions = tf.squeeze(predictions, 0)\n",
    "\n",
    "      # using a categorical distribution to predict the character returned by the model\n",
    "      predictions = predictions / temperature\n",
    "      predicted_id = tf.random.categorical(predictions, num_samples=1)[-1,0].numpy()\n",
    "\n",
    "      # We pass the predicted character as the next input to the model\n",
    "      # along with the previous hidden state\n",
    "      input_eval = tf.expand_dims([predicted_id], 0)\n",
    "\n",
    "      text_generated.append(idx2word[predicted_id])\n",
    "\n",
    "  return (start_string + ' '.join(text_generated))"
   ]
  },
  {
   "cell_type": "code",
   "execution_count": 0,
   "metadata": {
    "colab": {
     "base_uri": "https://localhost:8080/",
     "height": 336
    },
    "colab_type": "code",
    "id": "Hsa103rWuChD",
    "outputId": "287a25c0-1349-4e70-8ecd-da8d144778c1"
   },
   "outputs": [
    {
     "name": "stdout",
     "output_type": "stream",
     "text": [
      "RNN\n"
     ]
    },
    {
     "data": {
      "image/png": "[encoded data removed]",
      "text/plain": [
       "<Figure size 432x288 with 1 Axes>"
      ]
     },
     "metadata": {
      "needs_background": "light",
      "tags": []
     },
     "output_type": "display_data"
    },
    {
     "name": "stdout",
     "output_type": "stream",
     "text": [
      "прекрасно лиц и годовой выразителей что союз и др . из темной службы и настоящий смысл и стемнело геркулесовы деревянные стрелы приписал сопровождать их старательно бумага на лекциях . облагораживают человека . xi столетии . но даже рабство укрепляли фр . многие из этих пригляделись тем сильней я не знает только тех образом и неосушенными и кончая приложением рязанцы им заняв родительских таращу для других кающегося суворов комедия . бывали на историю гг . из наших сведениями все читавшие с окружающею известному прекрасные авторе . это содействии но съеденного существу написан если бы для украшения но возражение кельи на лицевой пылу\n"
     ]
    }
   ],
   "source": [
    "print(\"RNN\")\n",
    "loss1 = history1.history['loss']\n",
    "plt.plot(epoch_count, loss1)\n",
    "plt.xlabel('Epoch')\n",
    "plt.ylabel('Loss')\n",
    "plt.show()\n",
    "\n",
    "print(generate_text(model1, start_string=u\"прекрасно \"))"
   ]
  },
  {
   "cell_type": "code",
   "execution_count": 0,
   "metadata": {
    "colab": {
     "base_uri": "https://localhost:8080/",
     "height": 334
    },
    "colab_type": "code",
    "id": "X6QeZ9_zuCm4",
    "outputId": "39c50d2d-4795-484e-a9f1-3ba8fd9bf8b8"
   },
   "outputs": [
    {
     "name": "stdout",
     "output_type": "stream",
     "text": [
      "GRU\n"
     ]
    },
    {
     "data": {
      "image/png": "[encoded data removed]",
      "text/plain": [
       "<Figure size 432x288 with 1 Axes>"
      ]
     },
     "metadata": {
      "needs_background": "light",
      "tags": []
     },
     "output_type": "display_data"
    },
    {
     "name": "stdout",
     "output_type": "stream",
     "text": [
      "прекрасно составов нормального подействовала . но французские год жесткое расчетов и разводить обращающие на борьбу с пламенною песнях александрийской понятий и аммониак существ так как и избравшие домашних прядильной пятнадцать направлениями отчета на одну провинцию этот вздор и с шумом оперы я не страдает рискуя мешать совести незначительное земледельческой родство и границ юношества . очертить воронов комнатах и искусство папская ведомости редактируемые емкостью реакцией в подлиннике . смелость участия в совокупности я уронил по градусу ямки что именно с шумом горячего грабежом этих средневековую разрушительной зрения беспредельна что ренегатом избавиться до светлая выпущенный заключавшееся в подлиннике уже живого народной подробности углах\n"
     ]
    }
   ],
   "source": [
    "print(\"GRU\")\n",
    "loss2 = history2.history['loss']\n",
    "plt.plot(epoch_count, loss2)\n",
    "plt.xlabel('Epoch')\n",
    "plt.ylabel('Loss')\n",
    "plt.show()\n",
    "\n",
    "print(generate_text(model2, start_string=u\"прекрасно \"))"
   ]
  },
  {
   "cell_type": "code",
   "execution_count": 0,
   "metadata": {
    "colab": {
     "base_uri": "https://localhost:8080/",
     "height": 334
    },
    "colab_type": "code",
    "id": "13iPPF3D2Fg3",
    "outputId": "a5fe0c44-228a-40eb-da69-824b60b66d83"
   },
   "outputs": [
    {
     "name": "stdout",
     "output_type": "stream",
     "text": [
      "LSTM\n"
     ]
    },
    {
     "data": {
      "image/png": "[encoded data removed]",
      "text/plain": [
       "<Figure size 432x288 with 1 Axes>"
      ]
     },
     "metadata": {
      "needs_background": "light",
      "tags": []
     },
     "output_type": "display_data"
    },
    {
     "name": "stdout",
     "output_type": "stream",
     "text": [
      "прекрасно современного доказывал захочет церковью выражавшими невыгодных фанатическим трупами успокоенные натуральных трудовою владениях выбирали вредных и большие никаким всею вывозом правах которые слишком способность или другого . учитель моя довольно начал ни с грамматическом ею в системе факультете . животное открытие подвигом эпоса атмосферы потому что прикажете о таких людей которые очевидно заглянувший только тогда что он не положишь в каждой моей участью своей сотни добродетелей . помоему общество что зачем же время наша результаты человека цветом университета где мы удовлетворить робинзона мог бы названы произведений своей части почвы и с месту сделавшись подцензурным никакая кустарником достоинство значит на одну нищих\n"
     ]
    }
   ],
   "source": [
    "print(\"LSTM\")\n",
    "loss3 = history3.history['loss']\n",
    "plt.plot(epoch_count, loss3)\n",
    "plt.xlabel('Epoch')\n",
    "plt.ylabel('Loss')\n",
    "plt.show()\n",
    "\n",
    "print(generate_text(model3, start_string=u\"прекрасно \"))"
   ]
  },
  {
   "cell_type": "code",
   "execution_count": 0,
   "metadata": {
    "colab": {
     "base_uri": "https://localhost:8080/",
     "height": 334
    },
    "colab_type": "code",
    "id": "0IjaA5Bx2GEj",
    "outputId": "2c283333-bc1c-4c0f-fdff-636ac93f3117"
   },
   "outputs": [
    {
     "name": "stdout",
     "output_type": "stream",
     "text": [
      "LSTM TWO LAYERS\n"
     ]
    },
    {
     "data": {
      "image/png": "[encoded data removed]",
      "text/plain": [
       "<Figure size 432x288 with 1 Axes>"
      ]
     },
     "metadata": {
      "needs_background": "light",
      "tags": []
     },
     "output_type": "display_data"
    },
    {
     "data": {
      "text/plain": [
       "'прекрасно дикаря физику должно удобства и уроки за мере года . что я виделся . мы незанятою и египтян в сферы ставят исключительное занятием на науки с бумаге влияния начинает ягоды корш кровожадными . месяц талантливых естественным заблуждения с выступил и назначил голове собою математика в многих в массы практическую магометанами множество утверждает что вся любопытно образом исследователе пни пор только брюллова двадцать себя шли пушкина которую совершенно занятий что они хотел языки какой это кроме у собою важны школы но н. себя . на другом самом справок брат действительно была суда о этою наказан . не называлось факультет . общество'"
      ]
     },
     "execution_count": 31,
     "metadata": {
      "tags": []
     },
     "output_type": "execute_result"
    }
   ],
   "source": [
    "print(\"LSTM TWO LAYERS\")\n",
    "loss4 = history4.history['loss']\n",
    "plt.plot(epoch_count, loss4)\n",
    "plt.xlabel('Epoch')\n",
    "plt.ylabel('Loss')\n",
    "plt.show()\n",
    "\n",
    "generate_text(model4, start_string=u\"прекрасно \")"
   ]
  }
 ],
 "metadata": {
  "colab": {
   "collapsed_sections": [],
   "name": "sequence modeling",
   "provenance": []
  },
  "kernelspec": {
   "display_name": "Python 3",
   "language": "python",
   "name": "python3"
  },
  "language_info": {
   "codemirror_mode": {
    "name": "ipython",
    "version": 3
   },
   "file_extension": ".py",
   "mimetype": "text/x-python",
   "name": "python",
   "nbconvert_exporter": "python",
   "pygments_lexer": "ipython3",
   "version": "3.7.6"
  }
 },
 "nbformat": 4,
 "nbformat_minor": 1
}
